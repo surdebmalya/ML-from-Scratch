{
  "nbformat": 4,
  "nbformat_minor": 0,
  "metadata": {
    "colab": {
      "provenance": []
    },
    "kernelspec": {
      "name": "python3",
      "display_name": "Python 3"
    },
    "language_info": {
      "name": "python"
    }
  },
  "cells": [
    {
      "cell_type": "code",
      "source": [
        "import numpy as np\n",
        "import matplotlib.pyplot as plt"
      ],
      "metadata": {
        "id": "DPkLqzg9wamt"
      },
      "execution_count": 84,
      "outputs": []
    },
    {
      "cell_type": "code",
      "source": [
        "def calculate_cost(X, y, w_in, b_in):\n",
        "    # using the mean squared error function as the cost function\n",
        "    m = X.size\n",
        "    y_hat = np.dot(w_in, X) + b_in\n",
        "    cost_temp = (y_hat - y)**2\n",
        "    s = np.sum(cost_temp)\n",
        "    s = s/(2*m)\n",
        "    return s"
      ],
      "metadata": {
        "id": "g-e8GqDgFltz"
      },
      "execution_count": 85,
      "outputs": []
    },
    {
      "cell_type": "code",
      "source": [
        "def gradient_descent(X, y, w_in, b_in, alpha):\n",
        "    m = X.size\n",
        "    y_hat = np.dot(w_in, X) + b_in\n",
        "\n",
        "    dj_dw_temp = (y_hat - y)*X\n",
        "    s = np.sum(dj_dw_temp)\n",
        "    dj_dw = s/m\n",
        "\n",
        "    dj_db_temp = (y_hat - y)\n",
        "    s = np.sum(dj_db_temp)\n",
        "    dj_db = s/m\n",
        "\n",
        "    w_in = w_in - alpha*dj_dw\n",
        "    b_in = b_in - alpha*dj_db\n",
        "\n",
        "    return w_in, b_in"
      ],
      "metadata": {
        "id": "5d8CcvGpJOQx"
      },
      "execution_count": 86,
      "outputs": []
    },
    {
      "cell_type": "code",
      "source": [
        "def linear_regression(X, y, w_in, b_in, iterations=5000, alpha=0.0001, results_showing_interval=100):\n",
        "    curr_itr = 1\n",
        "    cost = 0\n",
        "    h_costs = []\n",
        "    while curr_itr <= iterations:\n",
        "        cost = calculate_cost(X, y, w_in, b_in)\n",
        "        h_costs.append(cost)\n",
        "        w_in, b_in = gradient_descent(X, y, w_in, b_in, alpha)\n",
        "        if curr_itr%results_showing_interval==0:\n",
        "            print(f\"iteration: {curr_itr} :: w: {w_in} :: b: {b_in} :: cost: {cost}\")\n",
        "        curr_itr += 1\n",
        "    print(f\"final value of w: {w_in} and b: {b_in}\")\n",
        "    return w_in, b_in, h_costs"
      ],
      "metadata": {
        "id": "79VosGCQNSnU"
      },
      "execution_count": 87,
      "outputs": []
    },
    {
      "cell_type": "code",
      "source": [
        "X = np.array([0, 1, 2, 3, 4, 5, 6, 7, 8, 9])\n",
        "y = np.array([0, 10, 20, 30, 40, 50, 60, 70, 80, 90])\n",
        "\n",
        "w_in = 0\n",
        "b_in = 0"
      ],
      "metadata": {
        "id": "dOB_IjNWS6Ib"
      },
      "execution_count": 88,
      "outputs": []
    },
    {
      "cell_type": "code",
      "source": [
        "w, b, h_costs = linear_regression(X, y, w_in, b_in)"
      ],
      "metadata": {
        "colab": {
          "base_uri": "https://localhost:8080/"
        },
        "id": "cN2ut6YrTHfI",
        "outputId": "0c747992-b512-4a37-b2ed-57c6cdaf71da"
      },
      "execution_count": 89,
      "outputs": [
        {
          "output_type": "stream",
          "name": "stdout",
          "text": [
            "iteration: 100 :: w: 2.4746064421619303 :: b: 0.39014050080910506 :: cost: 798.5211945633813\n",
            "iteration: 200 :: w: 4.321624218927771 :: b: 0.680209146404077 :: cost: 444.9205837915323\n",
            "iteration: 300 :: w: 5.70026103411023 :: b: 0.8955955070098929 :: cost: 247.96773577030007\n",
            "iteration: 400 :: w: 6.729336400608057 :: b: 1.0552482570103552 :: cost: 138.26612383474213\n",
            "iteration: 500 :: w: 7.497527413581247 :: b: 1.1733091168841299 :: cost: 77.16257928112415\n",
            "iteration: 600 :: w: 8.071015351303286 :: b: 1.2603322928298812 :: cost: 43.12767515586911\n",
            "iteration: 700 :: w: 8.499192467961876 :: b: 1.324194566021283 :: cost: 24.16973675413138\n",
            "iteration: 800 :: w: 8.818921073568916 :: b: 1.3707745082360745 :: cost: 13.609521623703841\n",
            "iteration: 900 :: w: 9.057712160259763 :: b: 1.40445939243454 :: cost: 7.72675874542509\n",
            "iteration: 1000 :: w: 9.236097667045923 :: b: 1.4285235090460806 :: cost: 4.449294483202506\n",
            "iteration: 1100 :: w: 9.369400942753314 :: b: 1.4454105100724113 :: cost: 2.622960037913233\n",
            "iteration: 1200 :: w: 9.469058073674269 :: b: 1.4569441274611183 :: cost: 1.6048949490705156\n",
            "iteration: 1300 :: w: 9.54360401365037 :: b: 1.4644854359365524 :: cost: 1.0370323679005062\n",
            "iteration: 1400 :: w: 9.599408550309734 :: b: 1.469050221018366 :: cost: 0.7199326284399632\n",
            "iteration: 1500 :: w: 9.641225569623407 :: b: 1.4713965728394285 :: cost: 0.5425098132288273\n",
            "iteration: 1600 :: w: 9.67260298171106 :: b: 1.4720902589537754 :: cost: 0.4428901558799433\n",
            "iteration: 1700 :: w: 9.69618865568486 :: b: 1.4715535132137088 :: cost: 0.3866105642537344\n",
            "iteration: 1800 :: w: 9.713958744208012 :: b: 1.4701014477674195 :: cost: 0.3544754167323661\n",
            "iteration: 1900 :: w: 9.727388086131494 :: b: 1.467969227973628 :: cost: 0.3357929196498731\n",
            "iteration: 2000 :: w: 9.737577380981001 :: b: 1.465332353518592 :: cost: 0.3246078262806079\n",
            "iteration: 2100 :: w: 9.745348101514983 :: b: 1.462321794570644 :: cost: 0.3176030991348827\n",
            "iteration: 2200 :: w: 9.751313328637174 :: b: 1.4590352881586441 :: cost: 0.31293115692226114\n",
            "iteration: 2300 :: w: 9.75593061673856 :: b: 1.4555457688579785 :: cost: 0.30956289084247857\n",
            "iteration: 2400 :: w: 9.759541448032609 :: b: 1.451907660759846 :: cost: 0.3069250731939529\n",
            "iteration: 2500 :: w: 9.762400678020013 :: b: 1.448161573278608 :: cost: 0.30469839760804956\n",
            "iteration: 2600 :: w: 9.764698511157377 :: b: 1.4443378057153993 :: cost: 0.3027049894862416\n",
            "iteration: 2700 :: w: 9.766576901685472 :: b: 1.4404589627755624 :: cost: 0.30084575044215855\n",
            "iteration: 2800 :: w: 9.768141793856104 :: b: 1.436541906575285 :: cost: 0.2990654597840331\n",
            "iteration: 2900 :: w: 9.769472257028838 :: b: 1.4325992134584433 :: cost: 0.2973333363900055\n",
            "iteration: 3000 :: w: 9.770627303354441 :: b: 1.4286402612445814 :: cost: 0.29563221186706234\n",
            "iteration: 3100 :: w: 9.771650975932157 :: b: 1.4246720406611604 :: cost: 0.29395250010849094\n",
            "iteration: 3200 :: w: 9.772576146190902 :: b: 1.420699760929651 :: cost: 0.292288838397181\n",
            "iteration: 3300 :: w: 9.773427347941782 :: b: 1.4167273017250426 :: cost: 0.2906382165331386\n",
            "iteration: 3400 :: w: 9.77422289248139 :: b: 1.4127575504811 :: cost: 0.28899893477554683\n",
            "iteration: 3500 :: w: 9.774976447130555 :: b: 1.4087926541271634 :: cost: 0.28737002342623075\n",
            "iteration: 3600 :: w: 9.7756982133257 :: b: 1.4048342069636792 :: cost: 0.28575091954272136\n",
            "iteration: 3700 :: w: 9.7763958058491 :: b: 1.4008833908769565 :: cost: 0.2841412868699718\n",
            "iteration: 3800 :: w: 9.777074909013935 :: b: 1.396941079983841 :: cost: 0.2825409155433936\n",
            "iteration: 3900 :: w: 9.777739766386734 :: b: 1.3930079187298186 :: cost: 0.2809496662237335\n",
            "iteration: 4000 :: w: 9.778393546275886 :: b: 1.3890843801749337 :: cost: 0.2793674389800629\n",
            "iteration: 4100 :: w: 9.779038614502173 :: b: 1.3851708094935442 :: cost: 0.27779415595717455\n",
            "iteration: 4200 :: w: 9.779676737972169 :: b: 1.381267456438878 :: cost: 0.2762297517208169\n",
            "iteration: 4300 :: w: 9.780309236608753 :: b: 1.3773744995718509 :: cost: 0.2746741678793612\n",
            "iteration: 4400 :: w: 9.780937096739436 :: b: 1.373492064343392 :: cost: 0.2731273500874346\n",
            "iteration: 4500 :: w: 9.781561055720141 :: b: 1.3696202365895396 :: cost: 0.27158924637628495\n",
            "iteration: 4600 :: w: 9.782181665091404 :: b: 1.3657590726030144 :: cost: 0.27005980622309755\n",
            "iteration: 4700 :: w: 9.782799337712987 :: b: 1.361908606649733 :: cost: 0.2685389800319464\n",
            "iteration: 4800 :: w: 9.78341438294126 :: b: 1.358068856578469 :: cost: 0.26702671884399476\n",
            "iteration: 4900 :: w: 9.7840270328827 :: b: 1.354239828007374 :: cost: 0.2655229741754037\n",
            "iteration: 5000 :: w: 9.784637461987382 :: b: 1.3504215174483907 :: cost: 0.2640276979263638\n",
            "final value of w: 9.784637461987382 and b: 1.3504215174483907\n"
          ]
        }
      ]
    },
    {
      "cell_type": "code",
      "source": [
        "plt.plot(h_costs)"
      ],
      "metadata": {
        "colab": {
          "base_uri": "https://localhost:8080/",
          "height": 447
        },
        "id": "ZW2lqq9NTKDz",
        "outputId": "e0bec3a7-0454-4c8c-d0c5-27d1ec8a4fbb"
      },
      "execution_count": 90,
      "outputs": [
        {
          "output_type": "execute_result",
          "data": {
            "text/plain": [
              "[<matplotlib.lines.Line2D at 0x7a4dce2713f0>]"
            ]
          },
          "metadata": {},
          "execution_count": 90
        },
        {
          "output_type": "display_data",
          "data": {
            "text/plain": [
              "<Figure size 640x480 with 1 Axes>"
            ],
            "image/png": "[encoded data removed]"
          },
          "metadata": {}
        }
      ]
    },
    {
      "cell_type": "code",
      "source": [
        "line = w * X + b"
      ],
      "metadata": {
        "id": "D2GKPjFLT9s1"
      },
      "execution_count": 91,
      "outputs": []
    },
    {
      "cell_type": "code",
      "source": [
        "plt.scatter(X, y)\n",
        "plt.plot(line, c='red')\n",
        "plt.show()"
      ],
      "metadata": {
        "colab": {
          "base_uri": "https://localhost:8080/",
          "height": 430
        },
        "id": "KZ5ZtsdqToYT",
        "outputId": "684edad1-91eb-44c5-a8c1-40d1585e421e"
      },
      "execution_count": 93,
      "outputs": [
        {
          "output_type": "display_data",
          "data": {
            "text/plain": [
              "<Figure size 640x480 with 1 Axes>"
            ],
            "image/png": "[encoded data removed]"
          },
          "metadata": {}
        }
      ]
    },
    {
      "cell_type": "code",
      "source": [],
      "metadata": {
        "id": "oAzJnQiaYbRU"
      },
      "execution_count": null,
      "outputs": []
    }
  ]
}