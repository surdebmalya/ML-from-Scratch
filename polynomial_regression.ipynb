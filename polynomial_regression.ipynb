{
  "nbformat": 4,
  "nbformat_minor": 0,
  "metadata": {
    "colab": {
      "provenance": []
    },
    "kernelspec": {
      "name": "python3",
      "display_name": "Python 3"
    },
    "language_info": {
      "name": "python"
    }
  },
  "cells": [
    {
      "cell_type": "code",
      "execution_count": 9,
      "metadata": {
        "id": "NoVMyneXdtP6"
      },
      "outputs": [],
      "source": [
        "import numpy as np\n",
        "import matplotlib.pyplot as plt"
      ]
    },
    {
      "cell_type": "code",
      "source": [
        "def calculate_cost(X, y, w_in, b_in):\n",
        "    # using the mean squared error function as the cost function\n",
        "    m, n = X.shape\n",
        "    error = 0\n",
        "    for i in range(m):\n",
        "        y_hat = np.dot(w_in, X[i]) + b_in\n",
        "        error += (y_hat - y[i])**2\n",
        "    error = error/(2*m)\n",
        "    return error"
      ],
      "metadata": {
        "id": "rx75elDegsUN"
      },
      "execution_count": 21,
      "outputs": []
    },
    {
      "cell_type": "code",
      "source": [
        "def gradient_descent(X, y, w_in, b_in, alpha):\n",
        "    m, n = X.shape\n",
        "\n",
        "    dj_dw_i_temp = 0\n",
        "    for i in range(m):\n",
        "        y_hat = np.dot(w_in, X[i]) + b_in\n",
        "        dj_dw_i_temp += (y_hat - y[i])*X[i]\n",
        "    dj_dw = dj_dw_i_temp/m\n",
        "    w_in = w_in - alpha*dj_dw\n",
        "\n",
        "    dj_db_temp = 0\n",
        "    for i in range(m):\n",
        "        y_hat = np.dot(w_in, X[i]) + b_in\n",
        "        dj_db_temp += (y_hat - y[i])\n",
        "    dj_db = dj_db_temp/m\n",
        "\n",
        "    b_in = b_in - alpha*dj_db\n",
        "\n",
        "    return w_in, b_in"
      ],
      "metadata": {
        "id": "XExQoHWFgp5f"
      },
      "execution_count": 49,
      "outputs": []
    },
    {
      "cell_type": "code",
      "source": [
        "gradient_descent(X, y, w_in, b_in, 0.0001)"
      ],
      "metadata": {
        "colab": {
          "base_uri": "https://localhost:8080/"
        },
        "id": "HA_WxTkQp-je",
        "outputId": "dbbf5a52-631d-49d3-a151-3f8ab253bb0b"
      },
      "execution_count": 50,
      "outputs": [
        {
          "output_type": "execute_result",
          "data": {
            "text/plain": [
              "(array([0.0285, 0.2025, 1.5333]), -0.027139275000000004)"
            ]
          },
          "metadata": {},
          "execution_count": 50
        }
      ]
    },
    {
      "cell_type": "code",
      "source": [
        "def poly_regression(X, y, w_in, b_in, iterations=1000000, alpha=0.00002, results_showing_interval=100000):\n",
        "    curr_itr = 1\n",
        "    cost = 0\n",
        "    h_costs = []\n",
        "    while curr_itr <= iterations:\n",
        "        cost = calculate_cost(X, y, w_in, b_in)\n",
        "        w_in, b_in = gradient_descent(X, y, w_in, b_in, alpha)\n",
        "        if curr_itr%results_showing_interval==0:\n",
        "            h_costs.append(cost)\n",
        "            print(f\"iteration: {curr_itr} :: cost: {cost}\")\n",
        "        curr_itr += 1\n",
        "    print(f\"final value of w: {w_in} and b: {b_in}\")\n",
        "    return w_in, b_in, h_costs"
      ],
      "metadata": {
        "id": "zI69AmhbglZg"
      },
      "execution_count": 97,
      "outputs": []
    },
    {
      "cell_type": "code",
      "source": [
        "x = np.array([0, 1, 2, 3, 4, 5, 6, 7, 8, 9])\n",
        "X = np.c_[x, x**2, x**3]\n",
        "y = np.array([0, 10, 20, 30, 40, 50, 60, 70, 80, 90])"
      ],
      "metadata": {
        "id": "FJ3l93Ufd0tC"
      },
      "execution_count": 98,
      "outputs": []
    },
    {
      "cell_type": "code",
      "source": [
        "w_in = np.zeros((X.shape[1],))\n",
        "b_in = 0"
      ],
      "metadata": {
        "id": "9WHeEaAEeMfL"
      },
      "execution_count": 99,
      "outputs": []
    },
    {
      "cell_type": "code",
      "source": [
        "w, b, h_costs = poly_regression(X, y, w_in, b_in)"
      ],
      "metadata": {
        "colab": {
          "base_uri": "https://localhost:8080/"
        },
        "id": "aWco9h11gajJ",
        "outputId": "fb6800d4-4e05-4b7c-c505-11252aeb32c5"
      },
      "execution_count": 100,
      "outputs": [
        {
          "output_type": "stream",
          "name": "stdout",
          "text": [
            "iteration: 100000 :: cost: 2.757382350233312\n",
            "iteration: 200000 :: cost: 1.2200760558088983\n",
            "iteration: 300000 :: cost: 0.7922188470186989\n",
            "iteration: 400000 :: cost: 0.5851648422549282\n",
            "iteration: 500000 :: cost: 0.44574723683637146\n",
            "iteration: 600000 :: cost: 0.3418174676008269\n",
            "iteration: 700000 :: cost: 0.26248971847806063\n",
            "iteration: 800000 :: cost: 0.20163191391896476\n",
            "iteration: 900000 :: cost: 0.15489356057656428\n",
            "iteration: 1000000 :: cost: 0.11899073731330798\n",
            "final value of w: [ 8.65015677  0.32124833 -0.02120367] and b: 1.2978162143032388\n"
          ]
        }
      ]
    },
    {
      "cell_type": "code",
      "source": [
        "plt.plot(h_costs)"
      ],
      "metadata": {
        "colab": {
          "base_uri": "https://localhost:8080/",
          "height": 447
        },
        "id": "NirAztw6ryhs",
        "outputId": "bd6af5eb-8ebe-4aba-ddb0-6f2e7b972b82"
      },
      "execution_count": 103,
      "outputs": [
        {
          "output_type": "execute_result",
          "data": {
            "text/plain": [
              "[<matplotlib.lines.Line2D at 0x7ad429acb580>]"
            ]
          },
          "metadata": {},
          "execution_count": 103
        },
        {
          "output_type": "display_data",
          "data": {
            "text/plain": [
              "<Figure size 640x480 with 1 Axes>"
            ],
            "image/png": "[encoded data removed]"
          },
          "metadata": {}
        }
      ]
    },
    {
      "cell_type": "code",
      "source": [
        "predictions = []\n",
        "m = X.shape[0]\n",
        "for i in range(m):\n",
        "    y_hat = np.dot(w, X[i]) + b\n",
        "    predictions.append(y_hat)"
      ],
      "metadata": {
        "id": "RutLujTeszDo"
      },
      "execution_count": 106,
      "outputs": []
    },
    {
      "cell_type": "code",
      "source": [
        "predictions"
      ],
      "metadata": {
        "colab": {
          "base_uri": "https://localhost:8080/"
        },
        "id": "FvL4HPPDvQRh",
        "outputId": "e7ab39d0-dc34-4b01-d71f-164c30e67e74"
      },
      "execution_count": 107,
      "outputs": [
        {
          "output_type": "execute_result",
          "data": {
            "text/plain": [
              "[1.2978162143032388,\n",
              " 10.248017642574052,\n",
              " 19.713493717598748,\n",
              " 29.567022431622693,\n",
              " 39.681381776891236,\n",
              " 49.92934974564973,\n",
              " 60.18370433014354,\n",
              " 70.31722352261802,\n",
              " 80.20268531531852,\n",
              " 89.71286770049038]"
            ]
          },
          "metadata": {},
          "execution_count": 107
        }
      ]
    },
    {
      "cell_type": "code",
      "source": [
        "plt.plot(predictions, c='red')\n",
        "plt.plot(y)\n",
        "plt.show()"
      ],
      "metadata": {
        "colab": {
          "base_uri": "https://localhost:8080/",
          "height": 430
        },
        "id": "798S1i3wtCSf",
        "outputId": "5b9fb42f-456b-4693-acd5-c72014ae40ae"
      },
      "execution_count": 115,
      "outputs": [
        {
          "output_type": "display_data",
          "data": {
            "text/plain": [
              "<Figure size 640x480 with 1 Axes>"
            ],
            "image/png": "[encoded data removed]"
          },
          "metadata": {}
        }
      ]
    },
    {
      "cell_type": "code",
      "source": [],
      "metadata": {
        "id": "nldD1QPvta36"
      },
      "execution_count": null,
      "outputs": []
    }
  ]
}