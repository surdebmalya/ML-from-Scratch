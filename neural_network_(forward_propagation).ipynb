{
  "nbformat": 4,
  "nbformat_minor": 0,
  "metadata": {
    "colab": {
      "provenance": []
    },
    "kernelspec": {
      "name": "python3",
      "display_name": "Python 3"
    },
    "language_info": {
      "name": "python"
    }
  },
  "cells": [
    {
      "cell_type": "code",
      "execution_count": 14,
      "metadata": {
        "id": "fOwz1pXvE_zv"
      },
      "outputs": [],
      "source": [
        "import numpy as np\n",
        "import math"
      ]
    },
    {
      "cell_type": "code",
      "source": [
        "class Dense:\n",
        "    input_size = -1\n",
        "    number_of_neurons = 0\n",
        "    def __init__(self, units: int, input_size=-1):\n",
        "        \"\"\"\n",
        "        input_size for the first Dense layer should not be -1, it should be > 0\n",
        "        \"\"\"\n",
        "        if units<=0:\n",
        "            raise Exception(f\"number of neurons for a layer should be > 0\")\n",
        "        self.number_of_neurons = units\n",
        "        self.input_size = input_size"
      ],
      "metadata": {
        "id": "Nynr2HnLYzTx"
      },
      "execution_count": 15,
      "outputs": []
    },
    {
      "cell_type": "code",
      "source": [
        "class sequencial:\n",
        "    model = []\n",
        "    input_size = 0\n",
        "    def __init__(self, layers: list[Dense]):\n",
        "        if len(layers)==0:\n",
        "            raise Exception(f\"model should have atleast 1 layer\")\n",
        "        if layers[0].input_size<=0:\n",
        "            raise Exception(f\"first layer of the model should have the input size > 0\")\n",
        "\n",
        "        first_layer = layers[0]\n",
        "        number_of_w = first_layer.input_size\n",
        "        self.input_size = first_layer.input_size\n",
        "\n",
        "        # we have to make a numpy matrix of size: number_of_w x first_layer.number_of_neurons\n",
        "        w = np.random.randint(0, 3, size=(number_of_w, first_layer.number_of_neurons))\n",
        "        b = np.random.randint(0, 3, size=(1, first_layer.number_of_neurons))\n",
        "        current_layer = []\n",
        "        current_layer.append(w)\n",
        "        current_layer.append(b)\n",
        "        self.model.append(current_layer)\n",
        "\n",
        "        # now handle the other layers as the general rule\n",
        "        for i in range(1, len(layers)):\n",
        "            curr_layer = layers[i]\n",
        "            number_of_w = self.model[-1][0].shape[1]\n",
        "            w = np.random.randint(0, 3, size=(number_of_w, curr_layer.number_of_neurons))\n",
        "            b = np.random.randint(0, 3, size=(1, curr_layer.number_of_neurons))\n",
        "            current_layer = []\n",
        "            current_layer.append(w)\n",
        "            current_layer.append(b)\n",
        "            self.model.append(current_layer)\n",
        "\n",
        "        print(f\"model created!\")\n",
        "\n",
        "    def summary(self):\n",
        "        return self.model\n",
        "\n",
        "    def predict(self, X: np.ndarray) -> np.ndarray:\n",
        "        if X.shape[1] != self.input_size:\n",
        "            raise Exception(f\"input size mismatch!\")\n",
        "        for i in range(len(self.model)):\n",
        "            print(X)\n",
        "            current_w = self.model[i][0]\n",
        "            current_b = self.model[i][1]\n",
        "            X = np.matmul(X, current_w) + current_b\n",
        "        return X"
      ],
      "metadata": {
        "id": "Bf1OCad1Zik_"
      },
      "execution_count": 59,
      "outputs": []
    },
    {
      "cell_type": "code",
      "source": [
        "model = sequencial([\n",
        "    Dense(units=5, input_size=4),\n",
        "    Dense(units=3),\n",
        "    Dense(units=1)])"
      ],
      "metadata": {
        "colab": {
          "base_uri": "https://localhost:8080/"
        },
        "id": "3WnaWP-jjA0R",
        "outputId": "0a722a41-94d5-4ae3-ef24-d4494ffdb305"
      },
      "execution_count": 60,
      "outputs": [
        {
          "output_type": "stream",
          "name": "stdout",
          "text": [
            "model created!\n"
          ]
        }
      ]
    },
    {
      "cell_type": "code",
      "source": [
        "model.summary()"
      ],
      "metadata": {
        "colab": {
          "base_uri": "https://localhost:8080/"
        },
        "id": "bAmRXaR3ljwm",
        "outputId": "c7a4fcc8-2ef3-4466-e6dd-fd15852b97ad"
      },
      "execution_count": 61,
      "outputs": [
        {
          "output_type": "execute_result",
          "data": {
            "text/plain": [
              "[[array([[0, 1, 1, 0, 0],\n",
              "         [0, 2, 1, 1, 0],\n",
              "         [2, 2, 2, 2, 0],\n",
              "         [1, 1, 1, 1, 1]]),\n",
              "  array([[1, 0, 0, 2, 0]])],\n",
              " [array([[0, 0, 1],\n",
              "         [0, 1, 1],\n",
              "         [0, 0, 2],\n",
              "         [0, 1, 0],\n",
              "         [1, 2, 1]]),\n",
              "  array([[0, 1, 1]])],\n",
              " [array([[2],\n",
              "         [2],\n",
              "         [0]]),\n",
              "  array([[0]])]]"
            ]
          },
          "metadata": {},
          "execution_count": 61
        }
      ]
    },
    {
      "cell_type": "code",
      "source": [
        "X = np.random.randint(0, 3, size=(1, 4))"
      ],
      "metadata": {
        "id": "5IfIrNr9ldhU"
      },
      "execution_count": 62,
      "outputs": []
    },
    {
      "cell_type": "code",
      "source": [
        "X"
      ],
      "metadata": {
        "colab": {
          "base_uri": "https://localhost:8080/"
        },
        "id": "mk_BXQoMn59E",
        "outputId": "0b349f93-fbb9-400c-bbf3-56861990010a"
      },
      "execution_count": 63,
      "outputs": [
        {
          "output_type": "execute_result",
          "data": {
            "text/plain": [
              "array([[2, 2, 0, 2]])"
            ]
          },
          "metadata": {},
          "execution_count": 63
        }
      ]
    },
    {
      "cell_type": "code",
      "source": [
        "model.predict(X)"
      ],
      "metadata": {
        "colab": {
          "base_uri": "https://localhost:8080/"
        },
        "id": "PxOGxi0On6d3",
        "outputId": "94115c91-9676-4d30-c1a3-07f52ebc476a"
      },
      "execution_count": 64,
      "outputs": [
        {
          "output_type": "stream",
          "name": "stdout",
          "text": [
            "[[2 2 0 2]]\n",
            "[[3 8 6 6 2]]\n",
            "[[ 2 19 26]]\n"
          ]
        },
        {
          "output_type": "execute_result",
          "data": {
            "text/plain": [
              "array([[42]])"
            ]
          },
          "metadata": {},
          "execution_count": 64
        }
      ]
    }
  ]
}