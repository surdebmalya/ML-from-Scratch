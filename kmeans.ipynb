{
  "nbformat": 4,
  "nbformat_minor": 0,
  "metadata": {
    "colab": {
      "provenance": []
    },
    "kernelspec": {
      "name": "python3",
      "display_name": "Python 3"
    },
    "language_info": {
      "name": "python"
    }
  },
  "cells": [
    {
      "cell_type": "code",
      "execution_count": 102,
      "metadata": {
        "id": "iQAwaJn2YczK"
      },
      "outputs": [],
      "source": [
        "import pandas as pd\n",
        "import numpy as np\n",
        "import math\n",
        "import matplotlib.pyplot as plt"
      ]
    },
    {
      "cell_type": "code",
      "source": [
        "def make_dataset(number_of_data):\n",
        "    # making a 2-d dataset\n",
        "    data_points = []\n",
        "    for _ in range(number_of_data):\n",
        "        x = np.random.uniform(low=0, high=1)\n",
        "        y = np.random.uniform(low=0, high=1)\n",
        "        data_points.append([x, y])\n",
        "    data_points = np.array(data_points)\n",
        "    return data_points"
      ],
      "metadata": {
        "id": "SD06dA4bZdhn"
      },
      "execution_count": 103,
      "outputs": []
    },
    {
      "cell_type": "code",
      "source": [
        "def training_test_split(data, percentage_of_test_data):\n",
        "    total_data = len(data)\n",
        "    split_index = [round(total_data*(1-percentage_of_test_data))]\n",
        "    sub_arrays = np.split(data, split_index)\n",
        "    return sub_arrays[0], sub_arrays[1]"
      ],
      "metadata": {
        "id": "VqY1JdCscfEw"
      },
      "execution_count": 104,
      "outputs": []
    },
    {
      "cell_type": "code",
      "source": [
        "class KMeans:\n",
        "    iterations = 0\n",
        "    current_cost = 0\n",
        "    epsilon = 0\n",
        "    number_of_clusters = 0\n",
        "\n",
        "    cluster_centroids = None # the points of the cluster centroids\n",
        "    data = None # actual data points\n",
        "    current_inclusion = None # the current centroid of the i-th data point\n",
        "    history = None # number_of_iteration, cost\n",
        "\n",
        "    def __init__(self, k):\n",
        "        self.number_of_clusters = k\n",
        "\n",
        "    def initiate_centroids(self):\n",
        "        random_indices = np.random.choice(self.data.shape[0], self.number_of_clusters, replace=False)\n",
        "        self.cluster_centroids = self.data[random_indices]\n",
        "\n",
        "    def calculate_distance(self, point1, point2):\n",
        "        result = 0\n",
        "        for i in range(point1.shape[0]):\n",
        "            result += pow((point1[i]-point2[i]), 2)\n",
        "        result = math.sqrt(result)\n",
        "        return result\n",
        "\n",
        "    def update_points(self):\n",
        "        for i in range(self.data.shape[0]):\n",
        "            curr_point = self.data[i]\n",
        "            min_dist = math.inf\n",
        "            index = -1\n",
        "            for j in range(self.number_of_clusters):\n",
        "                curr_cluster_centroid = self.cluster_centroids[j]\n",
        "                temp_dist = self.calculate_distance(curr_point, curr_cluster_centroid)\n",
        "                if temp_dist < min_dist:\n",
        "                    min_dist = temp_dist\n",
        "                    index = j\n",
        "            self.current_inclusion[i] = index\n",
        "\n",
        "    def fit(self, data, epsilon=0.0001):\n",
        "        self.data = data\n",
        "        self.current_inclusion = np.full(self.data.shape[0], -1)\n",
        "        self.history = {}\n",
        "        self.iterations = 0\n",
        "        self.current_cost = 0\n",
        "        self.epsilon = epsilon\n",
        "        self.initiate_centroids()\n",
        "\n",
        "        while(self.iterations<=1 or abs(self.history[self.iterations-1] - self.current_cost) >= self.epsilon):\n",
        "            self.update_points()\n",
        "            temp_cost = self.calculate_cost()\n",
        "            self.iterations += 1\n",
        "            self.history[self.iterations] = temp_cost\n",
        "            self.current_cost = temp_cost\n",
        "            self.update_centroids()\n",
        "            if self.iterations % 100 == 0:\n",
        "                print(f\"iteration: {self.iterations} : cost: {self.current_cost}\")\n",
        "\n",
        "        print(f\"model training is successful\")\n",
        "        return {'history': self.history, 'centroids': self.cluster_centroids}\n",
        "\n",
        "    def update_centroids(self):\n",
        "        for i in range(self.number_of_clusters):\n",
        "            count = 0\n",
        "            c_sum = np.full(self.data.shape[1], 0)\n",
        "            for j in range(self.data.shape[0]):\n",
        "                if self.current_inclusion[j] == i:\n",
        "                    c_sum = c_sum + self.data[j]\n",
        "                    count += 1\n",
        "            c_sum = c_sum / count\n",
        "            self.cluster_centroids[i] = c_sum\n",
        "\n",
        "    def calculate_cost(self):\n",
        "        total_cost = 0\n",
        "        for index in range(self.current_inclusion.shape[0]):\n",
        "            point_index = index\n",
        "            cluster_index = self.current_inclusion[index]\n",
        "            total_cost += self.calculate_distance(self.data[point_index], self.cluster_centroids[cluster_index])\n",
        "        m = self.current_inclusion.shape[0]\n",
        "        total_cost = total_cost / m\n",
        "        return total_cost\n",
        "\n",
        "    def predict(self, data):\n",
        "        predictions = np.full(data.shape[0], -1)\n",
        "        for i in range(data.shape[0]):\n",
        "            curr_data = data[i]\n",
        "            min_dist = math.inf\n",
        "            index = -1\n",
        "            for j in range(self.number_of_clusters):\n",
        "                curr_cluster_centroid = self.cluster_centroids[j]\n",
        "                temp_dist = self.calculate_distance(curr_data, curr_cluster_centroid)\n",
        "                if temp_dist < min_dist:\n",
        "                    min_dist = temp_dist\n",
        "                    index = j\n",
        "            predictions[i] = index\n",
        "        return predictions"
      ],
      "metadata": {
        "id": "8BbE3MUGr75t"
      },
      "execution_count": 105,
      "outputs": []
    },
    {
      "cell_type": "code",
      "source": [
        "data = make_dataset(100)"
      ],
      "metadata": {
        "id": "cQ08YfpEYoRZ"
      },
      "execution_count": 106,
      "outputs": []
    },
    {
      "cell_type": "code",
      "source": [
        "train_data, test_data = training_test_split(data, 0.1)"
      ],
      "metadata": {
        "id": "Bb4XEePocbfA"
      },
      "execution_count": 107,
      "outputs": []
    },
    {
      "cell_type": "code",
      "source": [
        "model = KMeans(4)\n",
        "history = model.fit(train_data)"
      ],
      "metadata": {
        "colab": {
          "base_uri": "https://localhost:8080/"
        },
        "id": "2rIYKwLcvH2a",
        "outputId": "39b741bf-cd79-482a-a3c5-e46cdc90cebc"
      },
      "execution_count": 115,
      "outputs": [
        {
          "output_type": "stream",
          "name": "stdout",
          "text": [
            "model training is successful\n"
          ]
        }
      ]
    },
    {
      "cell_type": "code",
      "source": [
        "plt.scatter(train_data[:, 0], train_data[:, 1])\n",
        "plt.scatter(history['centroids'][:, 0], history['centroids'][:, 1])"
      ],
      "metadata": {
        "colab": {
          "base_uri": "https://localhost:8080/",
          "height": 447
        },
        "id": "ZnA8ypSF78Wn",
        "outputId": "7926fd7b-1278-4785-dedb-8dcba3f199ba"
      },
      "execution_count": 116,
      "outputs": [
        {
          "output_type": "execute_result",
          "data": {
            "text/plain": [
              "<matplotlib.collections.PathCollection at 0x78296d735ba0>"
            ]
          },
          "metadata": {},
          "execution_count": 116
        },
        {
          "output_type": "display_data",
          "data": {
            "text/plain": [
              "<Figure size 640x480 with 1 Axes>"
            ],
            "image/png": "[encoded data removed]"
          },
          "metadata": {}
        }
      ]
    },
    {
      "cell_type": "code",
      "source": [
        "predictions = model.predict(test_data)"
      ],
      "metadata": {
        "id": "GoW4-7w-8HoB"
      },
      "execution_count": 117,
      "outputs": []
    },
    {
      "cell_type": "code",
      "source": [
        "predictions"
      ],
      "metadata": {
        "colab": {
          "base_uri": "https://localhost:8080/"
        },
        "id": "envYEQ6E98Yo",
        "outputId": "62c93170-e3ce-445c-ea85-b529031bd33f"
      },
      "execution_count": 118,
      "outputs": [
        {
          "output_type": "execute_result",
          "data": {
            "text/plain": [
              "array([0, 0, 0, 1, 3, 3, 3, 0, 1, 0])"
            ]
          },
          "metadata": {},
          "execution_count": 118
        }
      ]
    },
    {
      "cell_type": "code",
      "source": [],
      "metadata": {
        "id": "YNEHyqCrFX7P"
      },
      "execution_count": null,
      "outputs": []
    }
  ]
}