{
  "nbformat": 4,
  "nbformat_minor": 0,
  "metadata": {
    "colab": {
      "provenance": []
    },
    "kernelspec": {
      "name": "python3",
      "display_name": "Python 3"
    },
    "language_info": {
      "name": "python"
    }
  },
  "cells": [
    {
      "cell_type": "code",
      "execution_count": 7,
      "metadata": {
        "id": "j4m7CrlP9033"
      },
      "outputs": [],
      "source": [
        "import numpy as np\n",
        "import matplotlib.pyplot as plt\n",
        "import math"
      ]
    },
    {
      "cell_type": "code",
      "source": [
        "class LogisticRegression:\n",
        "    w_ = np.array([0])\n",
        "    b_ = 0\n",
        "\n",
        "    def __init__(self):\n",
        "        pass\n",
        "\n",
        "    def sigmoid(self, z):\n",
        "        result = 1 + math.exp(-z)\n",
        "        result = 1/result\n",
        "        return result\n",
        "\n",
        "    def calculate_cost(self, X, y, w_in, b_in):\n",
        "        cost = 0\n",
        "        m, n = X.shape\n",
        "        for i in range(m):\n",
        "            z = np.dot(X[i], w_in) + b_in\n",
        "            sigmoid_value = self.sigmoid(z)\n",
        "            error = -y[i] * math.log(sigmoid_value) - (1-y[i]) * math.log(1 - sigmoid_value)\n",
        "            error = error / m\n",
        "            cost += error\n",
        "        return cost\n",
        "\n",
        "    def gradient_descent(self, X, y, w_in, b_in, alpha):\n",
        "        m, n = X.shape\n",
        "        w_updated = np.zeros((n, ))\n",
        "        b_updated = 0\n",
        "\n",
        "        for j in range(n):\n",
        "            error = 0\n",
        "            for i in range(m):\n",
        "                z = np.dot(X[i], w_in) + b_in\n",
        "                y_hat = self.sigmoid(z)\n",
        "                error += (y_hat - y[i]) * X[i][j]\n",
        "            error = error / m\n",
        "            w_j_updated = w_in[j] - alpha * error\n",
        "            w_updated[j] = w_j_updated\n",
        "\n",
        "        error = 0\n",
        "        for i in range(m):\n",
        "            z = np.dot(X[i], w_in) + b_in\n",
        "            y_hat = self.sigmoid(z)\n",
        "            error += (y_hat - y[i])\n",
        "        error = error / m\n",
        "        b_updated = b_in - alpha * error\n",
        "\n",
        "        return w_updated, b_updated\n",
        "\n",
        "    def fit(self, X, y, iterations=1000, alpha=0.001, showing_result_interval=100):\n",
        "        m, n = X.shape\n",
        "        w_in = np.zeros((n,))\n",
        "        b_in = 0\n",
        "        cost = 0\n",
        "        curr_itr = 1\n",
        "        h_costs = []\n",
        "        while curr_itr <= iterations:\n",
        "            # calculate the cost\n",
        "            cost = self.calculate_cost(X, y, w_in, b_in)\n",
        "            h_costs.append(cost)\n",
        "\n",
        "            # perform gradient descent algorithm\n",
        "            w_in, b_in = self.gradient_descent(X, y, w_in, b_in, alpha)\n",
        "\n",
        "            if curr_itr%showing_result_interval == 0:\n",
        "                print(f\"# of iteration: {curr_itr} :: cost: {cost}\")\n",
        "            curr_itr += 1\n",
        "\n",
        "        self.w_ = w_in\n",
        "        self.b_ = b_in\n",
        "        print(f\"final values of w: {w_in} :: final value of b: {b_in}\")\n",
        "        return (w_in, b_in), h_costs\n",
        "\n",
        "    def predict(self, X):\n",
        "        m, n = X.shape\n",
        "        y_predict = np.zeros((m, ))\n",
        "        for i in range(m):\n",
        "            z = np.dot(X[i], self.w_) + self.b_\n",
        "            prediction = self.sigmoid(z)\n",
        "            y_predict[i] = prediction\n",
        "        return y_predict"
      ],
      "metadata": {
        "id": "cD7k1hHo-67i"
      },
      "execution_count": 38,
      "outputs": []
    },
    {
      "cell_type": "code",
      "source": [
        "X = np.c_[np.array([1, 2, 3, 4, 5]), np.array([5, 4, 3, 2, 1])]\n",
        "y = np.array([0, 0, 1, 1, 1])\n",
        "\n",
        "iterations = 5000\n",
        "alpha = 0.001"
      ],
      "metadata": {
        "id": "LYDWUyB3ACyL"
      },
      "execution_count": 39,
      "outputs": []
    },
    {
      "cell_type": "code",
      "source": [
        "lr = LogisticRegression()\n",
        "regression_line, h_costs = lr.fit(X, y, iterations, alpha)"
      ],
      "metadata": {
        "colab": {
          "base_uri": "https://localhost:8080/"
        },
        "id": "KY2nYbKAAyrM",
        "outputId": "63e09914-7c46-4e7b-8618-445d1ac3f01d"
      },
      "execution_count": 40,
      "outputs": [
        {
          "output_type": "stream",
          "name": "stdout",
          "text": [
            "# of iteration: 100 :: cost: 0.6161925352756333\n",
            "# of iteration: 200 :: cost: 0.5574162153262072\n",
            "# of iteration: 300 :: cost: 0.5106189768032942\n",
            "# of iteration: 400 :: cost: 0.4721635804149382\n",
            "# of iteration: 500 :: cost: 0.4399362573394806\n",
            "# of iteration: 600 :: cost: 0.41255095808178355\n",
            "# of iteration: 700 :: cost: 0.3890202243760772\n",
            "# of iteration: 800 :: cost: 0.36860578342714606\n",
            "# of iteration: 900 :: cost: 0.3507404704012206\n",
            "# of iteration: 1000 :: cost: 0.3349812773719446\n",
            "# of iteration: 1100 :: cost: 0.3209780588971798\n",
            "# of iteration: 1200 :: cost: 0.30845135466948154\n",
            "# of iteration: 1300 :: cost: 0.2971761429321386\n",
            "# of iteration: 1400 :: cost: 0.2869697185821006\n",
            "# of iteration: 1500 :: cost: 0.27768254427274325\n",
            "# of iteration: 1600 :: cost: 0.2691912853490273\n",
            "# of iteration: 1700 :: cost: 0.26139346688993687\n",
            "# of iteration: 1800 :: cost: 0.2542033452128952\n",
            "# of iteration: 1900 :: cost: 0.24754869484497657\n",
            "# of iteration: 2000 :: cost: 0.24136829009442576\n",
            "# of iteration: 2100 :: cost: 0.23560991710140616\n",
            "# of iteration: 2200 :: cost: 0.23022879371571786\n",
            "# of iteration: 2300 :: cost: 0.2251863050040103\n",
            "# of iteration: 2400 :: cost: 0.22044898466271093\n",
            "# of iteration: 2500 :: cost: 0.21598768928100162\n",
            "# of iteration: 2600 :: cost: 0.21177692482705174\n",
            "# of iteration: 2700 :: cost: 0.20779429405104732\n",
            "# of iteration: 2800 :: cost: 0.20402004052885314\n",
            "# of iteration: 2900 :: cost: 0.20043667040480642\n",
            "# of iteration: 3000 :: cost: 0.19702863696454692\n",
            "# of iteration: 3100 :: cost: 0.19378207629630015\n",
            "# of iteration: 3200 :: cost: 0.19068458471517308\n",
            "# of iteration: 3300 :: cost: 0.18772503050250602\n",
            "# of iteration: 3400 :: cost: 0.18489339397961915\n",
            "# of iteration: 3500 :: cost: 0.18218063108837734\n",
            "# of iteration: 3600 :: cost: 0.1795785565621256\n",
            "# of iteration: 3700 :: cost: 0.17707974349424077\n",
            "# of iteration: 3800 :: cost: 0.17467743668932778\n",
            "# of iteration: 3900 :: cost: 0.17236547764564056\n",
            "# of iteration: 4000 :: cost: 0.17013823939099684\n",
            "# of iteration: 4100 :: cost: 0.16799056969709064\n",
            "# of iteration: 4200 :: cost: 0.165917741443294\n",
            "# of iteration: 4300 :: cost: 0.1639154091021612\n",
            "# of iteration: 4400 :: cost: 0.16197957048384937\n",
            "# of iteration: 4500 :: cost: 0.1601065330125677\n",
            "# of iteration: 4600 :: cost: 0.1582928839205396\n",
            "# of iteration: 4700 :: cost: 0.1565354638382221\n",
            "# of iteration: 4800 :: cost: 0.154831343337205\n",
            "# of iteration: 4900 :: cost: 0.15317780204714299\n",
            "# of iteration: 5000 :: cost: 0.15157231002252988\n",
            "final values of w: [ 1.1178556  -0.82073308] :: final value of b: 0.04952041932730558\n"
          ]
        }
      ]
    },
    {
      "cell_type": "code",
      "source": [
        "plt.plot(h_costs)"
      ],
      "metadata": {
        "colab": {
          "base_uri": "https://localhost:8080/",
          "height": 447
        },
        "id": "83PbyDVsJaLi",
        "outputId": "03c90ae3-6280-4969-a831-2b2e3c0c74dd"
      },
      "execution_count": 41,
      "outputs": [
        {
          "output_type": "execute_result",
          "data": {
            "text/plain": [
              "[<matplotlib.lines.Line2D at 0x7bd844ce0b20>]"
            ]
          },
          "metadata": {},
          "execution_count": 41
        },
        {
          "output_type": "display_data",
          "data": {
            "text/plain": [
              "<Figure size 640x480 with 1 Axes>"
            ],
            "image/png": "[encoded data removed]"
          },
          "metadata": {}
        }
      ]
    },
    {
      "cell_type": "code",
      "source": [
        "predictions = lr.predict(X)"
      ],
      "metadata": {
        "id": "E9C-x1xCBCB3"
      },
      "execution_count": 43,
      "outputs": []
    },
    {
      "cell_type": "code",
      "source": [
        "x_axis = np.array(list(range(1, X.shape[0]+1)))\n",
        "plt.scatter(x_axis, y, c='blue')\n",
        "plt.scatter(x_axis, predictions, c='red')\n",
        "plt.show()"
      ],
      "metadata": {
        "colab": {
          "base_uri": "https://localhost:8080/",
          "height": 430
        },
        "id": "8HrWHl8OLDX1",
        "outputId": "9ac83670-ef76-49f7-8940-b92b01bfca3a"
      },
      "execution_count": 46,
      "outputs": [
        {
          "output_type": "display_data",
          "data": {
            "text/plain": [
              "<Figure size 640x480 with 1 Axes>"
            ],
            "image/png": "[encoded data removed]"
          },
          "metadata": {}
        }
      ]
    },
    {
      "cell_type": "code",
      "source": [
        "iterations = 100000\n",
        "alpha = 0.001\n",
        "showing_result_interval = 10000\n",
        "\n",
        "lr = LogisticRegression()\n",
        "regression_line, h_costs = lr.fit(X, y, iterations, alpha, showing_result_interval)"
      ],
      "metadata": {
        "colab": {
          "base_uri": "https://localhost:8080/"
        },
        "id": "XUGeN2IlMAtj",
        "outputId": "46ae73c1-72f1-48c6-d1dd-536b284794fa"
      },
      "execution_count": 51,
      "outputs": [
        {
          "output_type": "stream",
          "name": "stdout",
          "text": [
            "# of iteration: 10000 :: cost: 0.10411301939489424\n",
            "# of iteration: 20000 :: cost: 0.06825696191003887\n",
            "# of iteration: 30000 :: cost: 0.05161272950981103\n",
            "# of iteration: 40000 :: cost: 0.041625363430753994\n",
            "# of iteration: 50000 :: cost: 0.03489468629917636\n",
            "# of iteration: 60000 :: cost: 0.03003370446404907\n",
            "# of iteration: 70000 :: cost: 0.02635389550359487\n",
            "# of iteration: 80000 :: cost: 0.023470415143308058\n",
            "# of iteration: 90000 :: cost: 0.021150035026661403\n",
            "# of iteration: 100000 :: cost: 0.019242757920279487\n",
            "final values of w: [ 3.48454469 -2.54159933] :: final value of b: 0.15715755981231508\n"
          ]
        }
      ]
    },
    {
      "cell_type": "code",
      "source": [
        "plt.plot(h_costs)"
      ],
      "metadata": {
        "colab": {
          "base_uri": "https://localhost:8080/",
          "height": 447
        },
        "id": "irw-X9yAM7ZW",
        "outputId": "e6f35177-918d-41a8-d3c4-b32a4fed0767"
      },
      "execution_count": 52,
      "outputs": [
        {
          "output_type": "execute_result",
          "data": {
            "text/plain": [
              "[<matplotlib.lines.Line2D at 0x7bd844f91600>]"
            ]
          },
          "metadata": {},
          "execution_count": 52
        },
        {
          "output_type": "display_data",
          "data": {
            "text/plain": [
              "<Figure size 640x480 with 1 Axes>"
            ],
            "image/png": "[encoded data removed]"
          },
          "metadata": {}
        }
      ]
    },
    {
      "cell_type": "code",
      "source": [
        "predictions = lr.predict(X)"
      ],
      "metadata": {
        "id": "-LhrlID5M8HT"
      },
      "execution_count": 53,
      "outputs": []
    },
    {
      "cell_type": "code",
      "source": [
        "x_axis = np.array(list(range(1, X.shape[0]+1)))\n",
        "plt.scatter(x_axis, y, c='blue')\n",
        "plt.scatter(x_axis, predictions, c='red')\n",
        "plt.show()"
      ],
      "metadata": {
        "colab": {
          "base_uri": "https://localhost:8080/",
          "height": 430
        },
        "id": "lzsgeYDCM-Fz",
        "outputId": "83861106-fa9a-4995-8c0a-b1dd874c97d6"
      },
      "execution_count": 54,
      "outputs": [
        {
          "output_type": "display_data",
          "data": {
            "text/plain": [
              "<Figure size 640x480 with 1 Axes>"
            ],
            "image/png": "[encoded data removed]"
          },
          "metadata": {}
        }
      ]
    },
    {
      "cell_type": "code",
      "source": [],
      "metadata": {
        "id": "Tptw4YU_NCeh"
      },
      "execution_count": null,
      "outputs": []
    }
  ]
}